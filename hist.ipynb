{
 "cells": [
  {
   "cell_type": "code",
   "execution_count": 2,
   "metadata": {},
   "outputs": [],
   "source": [
    "import uproot\n",
    "import numpy as np\n",
    "import matplotlib.pyplot as plt"
   ]
  },
  {
   "cell_type": "code",
   "execution_count": 3,
   "metadata": {},
   "outputs": [],
   "source": [
    "helix = uproot.open(\"/home/users/hdhoang2001/cmssw/src/RecoTracker/LSTCore/standalone/debug_hist.root\")\n",
    "linear = uproot.open(\"/home/users/hdhoang2001/cmssw/src/RecoTracker/LSTCore/standalone/linear_high_oc_hist.root\")"
   ]
  },
  {
   "cell_type": "code",
   "execution_count": 4,
   "metadata": {},
   "outputs": [],
   "source": [
    "import json\n",
    "json.dump(helix.classnames(), open(\"classnames.json\", \"w\"), indent=4)"
   ]
  },
  {
   "cell_type": "code",
   "execution_count": 5,
   "metadata": {},
   "outputs": [],
   "source": [
    "helix_pT5_pt_num = helix[\"Root__pT5_base_0_0_ef_numer_pt\"]\n",
    "helix_pT5_pt_den = helix[\"Root__pT5_base_0_0_ef_denom_pt\"]\n",
    "helix_pT5_eta_num = helix[\"Root__pT5_base_0_0_ef_numer_eta\"]\n",
    "helix_pT5_eta_den = helix[\"Root__pT5_base_0_0_ef_denom_eta\"]\n",
    "\n",
    "linear_pT5_pt_num = linear[\"Root__pT5_base_0_0_ef_numer_pt\"]\n",
    "linear_pT5_pt_den = linear[\"Root__pT5_base_0_0_ef_denom_pt\"]\n",
    "linear_pT5_eta_num = linear[\"Root__pT5_base_0_0_ef_numer_eta\"]\n",
    "linear_pT5_eta_den = linear[\"Root__pT5_base_0_0_ef_denom_eta\"]"
   ]
  },
  {
   "cell_type": "code",
   "execution_count": 6,
   "metadata": {},
   "outputs": [],
   "source": [
    "helix_pT5_pt_bins = helix_pT5_pt_num.axis().edges()\n",
    "helix_pT5_eta_bins = helix_pT5_eta_num.axis().edges()\n",
    "\n",
    "linear_pT5_pt_bins = linear_pT5_pt_num.axis().edges()\n",
    "linear_pT5_eta_bins = linear_pT5_eta_num.axis().edges()"
   ]
  },
  {
   "cell_type": "code",
   "execution_count": 8,
   "metadata": {},
   "outputs": [
    {
     "data": {
      "text/plain": [
       "array([  0.,   0.,   0.,   2., 144., 241., 224., 190., 493., 549., 658.,\n",
       "       546., 500., 209., 126.,  85.])"
      ]
     },
     "execution_count": 8,
     "metadata": {},
     "output_type": "execute_result"
    }
   ],
   "source": [
    "helix_pT5_pt_num_vals = helix_pT5_pt_num.values()\n",
    "helix_pT5_pt_den_vals = helix_pT5_pt_den.values()\n",
    "\n",
    "linear_pT5_pt_num_vals = linear_pT5_pt_num.values()\n",
    "linear_pT5_pt_den_vals = linear_pT5_pt_den.values()"
   ]
  },
  {
   "cell_type": "code",
   "execution_count": 9,
   "metadata": {},
   "outputs": [
    {
     "data": {
      "text/plain": [
       "3967.0"
      ]
     },
     "execution_count": 9,
     "metadata": {},
     "output_type": "execute_result"
    }
   ],
   "source": [
    "sum(helix_pT5_pt_num.values())"
   ]
  },
  {
   "cell_type": "code",
   "execution_count": 10,
   "metadata": {},
   "outputs": [],
   "source": [
    "# helix_pT5_pt_den.values()"
   ]
  },
  {
   "cell_type": "code",
   "execution_count": 11,
   "metadata": {},
   "outputs": [
    {
     "data": {
      "text/plain": [
       "array([  0.,   0.,   0.,   2., 142., 242., 223., 190., 496., 548., 658.,\n",
       "       544., 496., 208., 126.,  85.])"
      ]
     },
     "execution_count": 11,
     "metadata": {},
     "output_type": "execute_result"
    }
   ],
   "source": [
    "linear_pT5_pt_num.values()"
   ]
  },
  {
   "cell_type": "code",
   "execution_count": 12,
   "metadata": {},
   "outputs": [
    {
     "data": {
      "text/plain": [
       "3960.0"
      ]
     },
     "execution_count": 12,
     "metadata": {},
     "output_type": "execute_result"
    }
   ],
   "source": [
    "sum(linear_pT5_pt_num.values()) "
   ]
  },
  {
   "cell_type": "code",
   "execution_count": 13,
   "metadata": {},
   "outputs": [
    {
     "data": {
      "text/plain": [
       "array([8668., 1465., 1245.,  990.,  750.,  638.,  559.,  435., 1010.,\n",
       "       1076., 1144.,  885.,  743.,  283.,  173.,  109.])"
      ]
     },
     "execution_count": 13,
     "metadata": {},
     "output_type": "execute_result"
    }
   ],
   "source": [
    "linear_pT5_pt_den.values()"
   ]
  },
  {
   "cell_type": "code",
   "execution_count": 14,
   "metadata": {},
   "outputs": [],
   "source": [
    "# helix_pT5_pt_num.errors()\n"
   ]
  },
  {
   "cell_type": "code",
   "execution_count": 15,
   "metadata": {},
   "outputs": [],
   "source": [
    "# linear_pT5_pt_num.errors()"
   ]
  },
  {
   "cell_type": "code",
   "execution_count": null,
   "metadata": {},
   "outputs": [],
   "source": []
  }
 ],
 "metadata": {
  "kernelspec": {
   "display_name": "lst",
   "language": "python",
   "name": "python3"
  },
  "language_info": {
   "codemirror_mode": {
    "name": "ipython",
    "version": 3
   },
   "file_extension": ".py",
   "mimetype": "text/x-python",
   "name": "python",
   "nbconvert_exporter": "python",
   "pygments_lexer": "ipython3",
   "version": "3.11.9"
  }
 },
 "nbformat": 4,
 "nbformat_minor": 2
}
