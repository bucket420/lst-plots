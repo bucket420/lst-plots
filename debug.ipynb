{
 "cells": [
  {
   "cell_type": "code",
   "execution_count": 60,
   "metadata": {},
   "outputs": [],
   "source": [
    "import uproot\n",
    "import numpy as np\n",
    "import matplotlib.pyplot as plt\n",
    "# import pandas as pd\n",
    "import ipywidgets as widgets"
   ]
  },
  {
   "cell_type": "code",
   "execution_count": 61,
   "metadata": {},
   "outputs": [],
   "source": [
    "def circle_fit(x1, y1, x2, y2, x3, y3):\n",
    "    x12 = x1 - x2\n",
    "    x13 = x1 - x3\n",
    "    y12 = y1 - y2\n",
    "    y13 = y1 - y3\n",
    "    y31 = y3 - y1\n",
    "    y21 = y2 - y1\n",
    "    x31 = x3 - x1\n",
    "    x21 = x2 - x1\n",
    "    sx13 = x1**2 - x3**2\n",
    "    sy13 = y1**2 - y3**2\n",
    "    sx21 = x2**2 - x1**2\n",
    "    sy21 = y2**2 - y1**2\n",
    "    f = ((sx13) * (x12) + (sy13) * (x12) + (sx21) * (x13) + (sy21) * (x13)) / (2 * ((y31) * (x12) - (y21) * (x13)))\n",
    "    g = ((sx13) * (y12) + (sy13) * (y12) + (sx21) * (y13) + (sy21) * (y13)) / (2 * ((x31) * (y12) - (x21) * (y13)))\n",
    "    c = -x1**2 - y1**2 - 2 * g * x1 - 2 * f * y1\n",
    "    h = -g\n",
    "    k = -f\n",
    "    r = np.sqrt(h**2 + k**2 - c)\n",
    "    return h, k, r"
   ]
  },
  {
   "cell_type": "code",
   "execution_count": 62,
   "metadata": {},
   "outputs": [],
   "source": [
    "f = uproot.open(\"/home/users/hdhoang2001/cmssw/src/RecoTracker/LSTCore/standalone/debug_nan.root:tree\")"
   ]
  },
  {
   "cell_type": "code",
   "execution_count": 63,
   "metadata": {},
   "outputs": [],
   "source": [
    "tree = f.arrays([\"t3_residual\", \n",
    "                 \"t3_isFake\", \n",
    "                 \"t3_isPerfect\", \n",
    "                 \"t3_region\", \n",
    "                 \"t3_rzChiSquared\",\n",
    "                 \"t3_pt\", \n",
    "                 \"t3_eta\", \n",
    "                 \"t3_phi\",\n",
    "                 \"t3_layer0\",\n",
    "                 \"t3_layer1\",\n",
    "                 \"t3_layer2\",\n",
    "                 \"t3_x0\",\n",
    "                 \"t3_y0\",\n",
    "                 \"t3_z0\",\n",
    "                 \"t3_r0\",\n",
    "                 \"t3_x1\",\n",
    "                 \"t3_y1\",\n",
    "                 \"t3_z1\",\n",
    "                 \"t3_r1\",\n",
    "                 \"t3_x2\",\n",
    "                 \"t3_y2\",\n",
    "                 \"t3_z2\",\n",
    "                 \"t3_r2\",\n",
    "                 \"t3_circleRadius\",\n",
    "                 \"t3_lastMD_drdz\",\n",
    "                 \"t3_lastMD_side\",\n",
    "                 \"t3_lastMD_subdet\",\n",
    "                ], library=\"np\")"
   ]
  },
  {
   "cell_type": "code",
   "execution_count": 64,
   "metadata": {},
   "outputs": [],
   "source": [
    "res = np.abs(np.concatenate(tree[\"t3_residual\"]))\n",
    "isfake = np.concatenate(tree[\"t3_isFake\"])\n",
    "isperfect = np.concatenate(tree[\"t3_isPerfect\"])\n",
    "region = np.concatenate(tree[\"t3_region\"])\n",
    "rzchi2 = np.concatenate(tree[\"t3_rzChiSquared\"])\n",
    "pt = np.concatenate(tree[\"t3_pt\"])\n",
    "eta = np.concatenate(tree[\"t3_eta\"])\n",
    "phi = np.concatenate(tree[\"t3_phi\"])\n",
    "layer0 = np.concatenate(tree[\"t3_layer0\"])\n",
    "layer1 = np.concatenate(tree[\"t3_layer1\"])\n",
    "layer2 = np.concatenate(tree[\"t3_layer2\"])\n",
    "drdz = np.concatenate(tree[\"t3_lastMD_drdz\"])\n",
    "side = np.concatenate(tree[\"t3_lastMD_side\"])\n",
    "subdet = np.concatenate(tree[\"t3_lastMD_subdet\"])"
   ]
  },
  {
   "cell_type": "code",
   "execution_count": 65,
   "metadata": {},
   "outputs": [],
   "source": [
    "x0 = np.concatenate(tree[\"t3_x0\"]) / 100\n",
    "y0 = np.concatenate(tree[\"t3_y0\"]) / 100\n",
    "z0 = np.concatenate(tree[\"t3_z0\"]) / 100\n",
    "r0 = np.concatenate(tree[\"t3_r0\"]) / 100\n",
    "x1 = np.concatenate(tree[\"t3_x1\"]) / 100\n",
    "y1 = np.concatenate(tree[\"t3_y1\"]) / 100\n",
    "z1 = np.concatenate(tree[\"t3_z1\"]) / 100\n",
    "r1 = np.concatenate(tree[\"t3_r1\"]) / 100\n",
    "x2 = np.concatenate(tree[\"t3_x2\"]) / 100\n",
    "y2 = np.concatenate(tree[\"t3_y2\"]) / 100\n",
    "z2 = np.concatenate(tree[\"t3_z2\"]) / 100\n",
    "r2 = np.concatenate(tree[\"t3_r2\"]) / 100\n",
    "circle_radius = np.concatenate(tree[\"t3_circleRadius\"])"
   ]
  },
  {
   "cell_type": "code",
   "execution_count": 66,
   "metadata": {},
   "outputs": [],
   "source": [
    "region_components = [\"Endcap 1, 2, 3 ps\",\n",
    "                     \"Endcap 1, 2 ps, 3 2s\",\n",
    "                     \"Endcap 1 ps, 2, 3 2s\",\n",
    "                     \"Endcap 2, 3, 4 ps\",\n",
    "                     \"Endcap 2, 3 ps, 4 2s\",\n",
    "                     \"Endcap 2 ps, 3, 4 2s\",\n",
    "                     \"Endcap 3, 4, 5 ps\",\n",
    "                     \"Endcap 3, 4 ps, 5 2s\",\n",
    "                     \"Endcap 3 ps, 4, 5 2s\",\n",
    "                     \"Barrel 1, Endcap 1, 2 ps\",\n",
    "                     \"Barrel 1, 2, Endcap 1 ps\",\n",
    "                     \"Barrel 1, 2, 3\",\n",
    "                     \"Barrel 2, Endcap 1, 2 ps\",\n",
    "                     \"Barrel 2, Endcap 1 ps, 2 2s\",\n",
    "                     \"Barrel 2, 3, Endcap 1 ps\",\n",
    "                     \"Barrel 2, 3, Endcap 1 2s\",\n",
    "                     \"Barrel 2, 3, 4\",\n",
    "                     \"Barrel 3, Endcap 1, 2 ps\",\n",
    "                     \"Barrel 3, Endcap 1 ps, 2 2s\",\n",
    "                     \"Barrel 3, Endcap 1, 2 2s\",\n",
    "                     \"Barrel 3, 4, 5\",\n",
    "                     \"Barrel 3, 4, Endcap 1 2s\",\n",
    "                     \"Barrel 4, Endcap 1, 2 ps\",\n",
    "                     \"Barrel 4, 5, 6\",\n",
    "                     \"Barrel 4, 5, Endcap 1 2s\",\n",
    "                     \"Barrel 5, Endcap 1, 2 2s\"]"
   ]
  },
  {
   "cell_type": "code",
   "execution_count": 67,
   "metadata": {},
   "outputs": [],
   "source": [
    "InnerPixel = 0\n",
    "Barrel = 5 \n",
    "Endcap = 4\n",
    "NegZ = 1 \n",
    "PosZ = 2 \n",
    "Center = 3"
   ]
  },
  {
   "cell_type": "code",
   "execution_count": 68,
   "metadata": {},
   "outputs": [],
   "source": [
    "x0_true = x0[isperfect==1]\n",
    "y0_true = y0[isperfect==1]\n",
    "z0_true = z0[isperfect==1]\n",
    "r0_true = r0[isperfect==1]\n",
    "x1_true = x1[isperfect==1]\n",
    "y1_true = y1[isperfect==1]\n",
    "z1_true = z1[isperfect==1]\n",
    "r1_true = r1[isperfect==1]\n",
    "x2_true = x2[isperfect==1]\n",
    "y2_true = y2[isperfect==1]\n",
    "z2_true = z2[isperfect==1]\n",
    "r2_true = r2[isperfect==1]\n",
    "pt_true = pt[isperfect==1]\n",
    "region_true = region[isperfect==1]\n",
    "rzchi2_true = rzchi2[isperfect==1]\n",
    "circle_radius_true = circle_radius[isperfect==1]\n",
    "drdz_true = drdz[isperfect==1]\n",
    "side_true = side[isperfect==1]\n",
    "subdet_true = subdet[isperfect==1]\n",
    "layer2_true = layer2[isperfect==1]"
   ]
  },
  {
   "cell_type": "code",
   "execution_count": 69,
   "metadata": {},
   "outputs": [],
   "source": [
    "i = np.random.randint(0, len(x0_true))"
   ]
  },
  {
   "cell_type": "code",
   "execution_count": 70,
   "metadata": {},
   "outputs": [
    {
     "data": {
      "text/plain": [
       "63741"
      ]
     },
     "execution_count": 70,
     "metadata": {},
     "output_type": "execute_result"
    }
   ],
   "source": [
    "i"
   ]
  },
  {
   "cell_type": "code",
   "execution_count": 71,
   "metadata": {},
   "outputs": [
    {
     "name": "stdout",
     "output_type": "stream",
     "text": [
      "pt: 1.991336703300476\n",
      "region: Barrel 1, 2, 3\n",
      "rzchi2: 21.3980712890625\n",
      "circle_radius: 174.79957580566406\n",
      "x0: -0.07664800435304642\n",
      "y0: 0.2050003856420517\n",
      "z0: 0.1251325011253357\n",
      "r0: 0.21886084973812103\n",
      "x1: -0.14509178698062897\n",
      "y1: 0.3432410955429077\n",
      "z1: 0.21267348527908325\n",
      "r1: 0.37264737486839294\n",
      "x2: -0.2148469090461731\n",
      "y2: 0.45894837379455566\n",
      "z2: 0.2873395085334778\n",
      "r2: 0.5067472457885742\n"
     ]
    }
   ],
   "source": [
    "print(f\"pt: {pt_true[i]}\")\n",
    "print(f\"region: {region_components[int(region_true[i])]}\")\n",
    "print(f\"rzchi2: {rzchi2_true[i]}\")\n",
    "print(f\"circle_radius: {circle_radius_true[i]}\")\n",
    "print(f\"x0: {x0_true[i]}\")\n",
    "print(f\"y0: {y0_true[i]}\")\n",
    "print(f\"z0: {z0_true[i]}\")\n",
    "print(f\"r0: {r0_true[i]}\")\n",
    "print(f\"x1: {x1_true[i]}\")\n",
    "print(f\"y1: {y1_true[i]}\")\n",
    "print(f\"z1: {z1_true[i]}\")\n",
    "print(f\"r1: {r1_true[i]}\")\n",
    "print(f\"x2: {x2_true[i]}\")\n",
    "print(f\"y2: {y2_true[i]}\")\n",
    "print(f\"z2: {z2_true[i]}\")\n",
    "print(f\"r2: {r2_true[i]}\")"
   ]
  },
  {
   "cell_type": "code",
   "execution_count": 72,
   "metadata": {},
   "outputs": [],
   "source": [
    "xc, yc, radius = circle_fit(x0_true[i], y0_true[i], x1_true[i], y1_true[i], x2_true[i], y2_true[i])"
   ]
  },
  {
   "cell_type": "code",
   "execution_count": 73,
   "metadata": {},
   "outputs": [
    {
     "data": {
      "text/plain": [
       "[<matplotlib.lines.Line2D at 0x7f7637316a90>]"
      ]
     },
     "execution_count": 73,
     "metadata": {},
     "output_type": "execute_result"
    },
    {
     "data": {
      "image/png": "[encoded data removed]",
      "text/plain": [
       "<Figure size 640x480 with 1 Axes>"
      ]
     },
     "metadata": {},
     "output_type": "display_data"
    }
   ],
   "source": [
    "plt.figsize=(10, 10)\n",
    "plt.axis('equal')\n",
    "theta = np.linspace(0, 2*np.pi, 100)\n",
    "x = xc + radius * np.cos(theta)\n",
    "y = yc + radius * np.sin(theta)\n",
    "plt.plot(x, y, color='white')\n",
    "plt.plot([x0_true[i], x1_true[i], x2_true[i]], [y0_true[i], y1_true[i], y2_true[i]], 'o', color='black')\n",
    "plt.plot(xc, yc, 'o', color='white')\n",
    "# draw line connecting first point and center and last point and center\n",
    "# plt.plot([x0_true[i], xc], [y0_true[i], yc], 'green')\n",
    "# plt.plot([x2_true[i], xc], [y2_true[i], yc], 'green')\n",
    "\n",
    "# draw line connecting first point and second point and second point and last point\n",
    "plt.plot([x0_true[i], x1_true[i]], [y0_true[i], y1_true[i]], 'green')\n",
    "plt.plot([x1_true[i], x2_true[i]], [y1_true[i], y2_true[i]], 'green')"
   ]
  },
  {
   "cell_type": "code",
   "execution_count": 74,
   "metadata": {},
   "outputs": [
    {
     "name": "stdout",
     "output_type": "stream",
     "text": [
      "q: -1\n"
     ]
    }
   ],
   "source": [
    "q = 0\n",
    "slope3c = (y2_true[i] - yc) / (x2_true[i] - xc)\n",
    "slope1c = (y0_true[i] - yc) / (x0_true[i] - xc)\n",
    "if (y2_true[i] - yc) > 0 and (y0_true[i] - yc) > 0:\n",
    "    if slope1c > 0 and slope3c < 0:\n",
    "        q = -1\n",
    "    elif slope1c < 0 and slope3c > 0:\n",
    "        q = 1\n",
    "    elif slope3c > slope1c:\n",
    "        q = -1\n",
    "    elif slope3c < slope1c:\n",
    "        q = 1\n",
    "elif (y2_true[i] - yc) < 0 and (y0_true[i] - yc) < 0:\n",
    "    if slope1c < 0 and slope3c > 0:\n",
    "        q = 1\n",
    "    elif slope1c > 0 and slope3c < 0:\n",
    "        q = -1\n",
    "    elif slope3c > slope1c:\n",
    "        q = -1\n",
    "    elif slope3c < slope1c:\n",
    "        q = 1\n",
    "elif (y2_true[i] - yc) < 0 and (y0_true[i] - yc) > 0:\n",
    "    if (x2_true[i] - xc) > 0 and (x0_true[i] - xc) > 0:\n",
    "        q = 1\n",
    "    elif (x2_true[i] - xc) < 0 and (x0_true[i] - xc) < 0:\n",
    "        q = -1\n",
    "elif (y2_true[i] - yc) > 0 and (y0_true[i] - yc) < 0:\n",
    "    if (x2_true[i] - xc) > 0 and (x0_true[i] - xc) > 0:\n",
    "        q = -1\n",
    "    elif (x2_true[i] - xc) < 0 and (x0_true[i] - xc) < 0:\n",
    "        q = 1\n",
    "        \n",
    "print(f\"q: {q}\")"
   ]
  },
  {
   "cell_type": "code",
   "execution_count": 75,
   "metadata": {},
   "outputs": [
    {
     "name": "stdout",
     "output_type": "stream",
     "text": [
      "new_q: -1\n"
     ]
    }
   ],
   "source": [
    "new_q = 0\n",
    "slope01 = (y1_true[i] - y0_true[i]) / (x1_true[i] - x0_true[i])\n",
    "slope12 = (y2_true[i] - y1_true[i]) / (x2_true[i] - x1_true[i])\n",
    "if slope01 > 0 and slope12 < 0:\n",
    "    if x0_true[i] < x1_true[i] < x2_true[i] or x0_true[i] > x1_true[i] > x2_true[i]:\n",
    "        new_q = 1\n",
    "    elif y0_true[i] < y1_true[i] < y2_true[i] or y0_true[i] > y1_true[i] > y2_true[i]:\n",
    "        new_q = -1\n",
    "elif slope01 < 0 and slope12 > 0:\n",
    "    if x0_true[i] < x1_true[i] < x2_true[i] or x0_true[i] > x1_true[i] > x2_true[i]:\n",
    "        new_q = -1\n",
    "    elif y0_true[i] < y1_true[i] < y2_true[i] or y0_true[i] > y1_true[i] > y2_true[i]:\n",
    "        new_q = 1\n",
    "elif slope01 > 0 and slope12 > 0:\n",
    "    if slope01 > slope12:\n",
    "        new_q = 1\n",
    "    else:\n",
    "        new_q = -1\n",
    "elif slope01 < 0 and slope12 < 0:\n",
    "    if slope01 > slope12:\n",
    "        new_q = 1\n",
    "    else:\n",
    "        new_q = -1\n",
    "\n",
    "print(f\"new_q: {new_q}\")\n",
    "        "
   ]
  },
  {
   "cell_type": "code",
   "execution_count": 76,
   "metadata": {},
   "outputs": [],
   "source": [
    "def get_q(i):\n",
    "    xc, yc, radius = circle_fit(x0_true[i], y0_true[i], x1_true[i], y1_true[i], x2_true[i], y2_true[i])\n",
    "    q = 0\n",
    "    slope3c = (y2_true[i] - yc) / (x2_true[i] - xc)\n",
    "    slope1c = (y0_true[i] - yc) / (x0_true[i] - xc)\n",
    "    if (y2_true[i] - yc) > 0 and (y0_true[i] - yc) > 0:\n",
    "        if slope1c > 0 and slope3c < 0:\n",
    "            q = -1\n",
    "        elif slope1c < 0 and slope3c > 0:\n",
    "            q = 1\n",
    "        elif slope3c > slope1c:\n",
    "            q = -1\n",
    "        elif slope3c < slope1c:\n",
    "            q = 1\n",
    "    elif (y2_true[i] - yc) < 0 and (y0_true[i] - yc) < 0:\n",
    "        if slope1c < 0 and slope3c > 0:\n",
    "            q = 1\n",
    "        elif slope1c > 0 and slope3c < 0:\n",
    "            q = -1\n",
    "        elif slope3c > slope1c:\n",
    "            q = -1\n",
    "        elif slope3c < slope1c:\n",
    "            q = 1\n",
    "    elif (y2_true[i] - yc) < 0 and (y0_true[i] - yc) > 0:\n",
    "        if (x2_true[i] - xc) > 0 and (x0_true[i] - xc) > 0:\n",
    "            q = 1\n",
    "        elif (x2_true[i] - xc) < 0 and (x0_true[i] - xc) < 0:\n",
    "            q = -1\n",
    "    elif (y2_true[i] - yc) > 0 and (y0_true[i] - yc) < 0:\n",
    "        if (x2_true[i] - xc) > 0 and (x0_true[i] - xc) > 0:\n",
    "            q = -1\n",
    "        elif (x2_true[i] - xc) < 0 and (x0_true[i] - xc) < 0:\n",
    "            q = 1\n",
    "            \n",
    "    return q"
   ]
  },
  {
   "cell_type": "code",
   "execution_count": 77,
   "metadata": {},
   "outputs": [],
   "source": [
    "def get_new_q(i):\n",
    "    new_q = 0\n",
    "    slope01 = (y1_true[i] - y0_true[i]) / (x1_true[i] - x0_true[i])\n",
    "    slope12 = (y2_true[i] - y1_true[i]) / (x2_true[i] - x1_true[i])\n",
    "    if slope01 > 0 and slope12 < 0:\n",
    "        if x0_true[i] < x1_true[i] < x2_true[i] or x0_true[i] > x1_true[i] > x2_true[i]:\n",
    "            new_q = 1\n",
    "        elif y0_true[i] < y1_true[i] < y2_true[i] or y0_true[i] > y1_true[i] > y2_true[i]:\n",
    "            new_q = -1\n",
    "    elif slope01 < 0 and slope12 > 0:\n",
    "        if x0_true[i] < x1_true[i] < x2_true[i] or x0_true[i] > x1_true[i] > x2_true[i]:\n",
    "            new_q = -1\n",
    "        elif y0_true[i] < y1_true[i] < y2_true[i] or y0_true[i] > y1_true[i] > y2_true[i]:\n",
    "            new_q = 1\n",
    "    elif slope01 > 0 and slope12 > 0:\n",
    "        if slope01 > slope12:\n",
    "            new_q = 1\n",
    "        else:\n",
    "            new_q = -1\n",
    "    elif slope01 < 0 and slope12 < 0:\n",
    "        if slope01 > slope12:\n",
    "            new_q = 1\n",
    "        else:\n",
    "            new_q = -1\n",
    "            \n",
    "    return new_q\n",
    "\n"
   ]
  },
  {
   "cell_type": "code",
   "execution_count": 78,
   "metadata": {},
   "outputs": [],
   "source": [
    "for i in range(len(x0_true)):\n",
    "    if get_q(i) != get_new_q(i):\n",
    "        print(i)\n",
    "        print(f\"q: {get_q(i)}\")\n",
    "        print(f\"new_q: {get_new_q(i)}\")"
   ]
  },
  {
   "cell_type": "code",
   "execution_count": null,
   "metadata": {},
   "outputs": [],
   "source": []
  },
  {
   "cell_type": "code",
   "execution_count": 79,
   "metadata": {},
   "outputs": [],
   "source": [
    "# q = 1\n",
    "Bz = 3.8112\n",
    "a = -0.299792 * Bz * q\n",
    "pseudo_phi = np.arctan((y1_true[i] - yc)/(x1_true[i] - xc))\n",
    "px = np.abs(pt_true[i] * np.sin(pseudo_phi))\n",
    "py = np.abs(pt_true[i] * np.cos(pseudo_phi))"
   ]
  },
  {
   "cell_type": "code",
   "execution_count": 80,
   "metadata": {},
   "outputs": [
    {
     "name": "stdout",
     "output_type": "stream",
     "text": [
      "px: 0.20142072307104003\n",
      "py: 1.1664327769069849\n"
     ]
    }
   ],
   "source": [
    "if (x1_true[i] > xc and y1_true[i] > yc):\n",
    "    if q == 1:\n",
    "        py = -py\n",
    "    if q == -1:\n",
    "        px = -px\n",
    "elif (x1_true[i] < xc and y1_true[i] > yc):\n",
    "    if q == -1:\n",
    "        px = -px\n",
    "        py = -py\n",
    "elif (x1_true[i] < xc and y1_true[i] < yc):\n",
    "    if q == 1:\n",
    "        px = -px\n",
    "    if q == -1:\n",
    "        py = -py\n",
    "elif (x1_true[i] > xc and y1_true[i] < yc):\n",
    "    if q == 1:\n",
    "        px = -px\n",
    "        py = -py\n",
    "\n",
    "if (x2_true[i] < x1_true[i] and x1_true[i] < x0_true[i]):\n",
    "    px = -np.abs(px)\n",
    "if (x2_true[i] > x1_true[i] and x1_true[i] > x0_true[i]):\n",
    "    px = np.abs(px)\n",
    "if (y2_true[i] < y1_true[i] and y1_true[i] < y0_true[i]):\n",
    "    py = -np.abs(py)\n",
    "if (y2_true[i] > y1_true[i] and y1_true[i] > y0_true[i]):\n",
    "    py = np.abs(py)\n",
    "        \n",
    "print(f\"px: {px}\")\n",
    "print(f\"py: {py}\")"
   ]
  },
  {
   "cell_type": "code",
   "execution_count": 81,
   "metadata": {},
   "outputs": [],
   "source": [
    "# distance01 = np.sqrt((x0[i] - x1[i])**2 + (y0[i] - y1[i])**2)\n",
    "# central_angle01 = 2 * np.arcsin(distance01 / (2 * radius))\n",
    "AO = np.sqrt((x0_true[i] - xc)**2 + (y0_true[i] - yc)**2)\n",
    "BO = np.sqrt((x1_true[i] - xc)**2 + (y1_true[i] - yc)**2)\n",
    "AB = np.sqrt((x1_true[i] - x0_true[i])**2 + (y1_true[i] - y0_true[i])**2)\n",
    "central_angle01 = np.arccos((AO**2 + BO**2 - AB**2) / (2 * AO * BO))\n",
    "ds = radius * central_angle01\n",
    "pz = pt_true[i] * (z1_true[i] - z0_true[i]) / ds\n",
    "p = np.sqrt(px**2 + py**2 + pz**2)\n",
    "rho = a / p"
   ]
  },
  {
   "cell_type": "code",
   "execution_count": 82,
   "metadata": {},
   "outputs": [],
   "source": [
    "s = (z2_true[i] - z1_true[i]) * p / pz\n",
    "x = x1_true[i] + px / a * np.sin(rho * s) - py / a * (1 - np.cos(rho * s))\n",
    "y = y1_true[i] + px / a * (1 - np.cos(rho * s)) + py / a * np.sin(rho * s)\n",
    "r = np.sqrt(x**2 + y**2)\n",
    "diffr = r - r2_true[i]"
   ]
  },
  {
   "cell_type": "code",
   "execution_count": 83,
   "metadata": {},
   "outputs": [
    {
     "name": "stdout",
     "output_type": "stream",
     "text": [
      "A: 0.33304848539085075\n",
      "B: 0.07847071023130198\n",
      "C: -0.1800734541976708\n",
      "B^2 - 4AC: 0.24605041708273692\n"
     ]
    }
   ],
   "source": [
    "diffz = 0\n",
    "paraA = r1_true[i]**2 + 2 * (px**2 + py**2) / (a**2) + 2 * (y1_true[i] * px - x1_true[i] * py) / a - r2_true[i]**2\n",
    "paraB = 2 * (x1_true[i] * px + y1_true[i] * py) / a\n",
    "paraC = 2 * (y1_true[i] * px - x1_true[i] * py) / a + 2 * (px**2 + py**2) / (a**2)\n",
    "A = paraB**2 + paraC**2\n",
    "B = 2 * paraA * paraB\n",
    "C = paraA**2 - paraC**2\n",
    "sol1 = (-B + np.sqrt(B**2 - 4 * A * C)) / (2 * A)\n",
    "sol2 = (-B - np.sqrt(B**2 - 4 * A * C)) / (2 * A)\n",
    "solz1 = np.arcsin(sol1) / rho * pz / p + z1_true[i]\n",
    "solz2 = np.arcsin(sol2) / rho * pz / p + z1_true[i]\n",
    "diffz1 = (solz1 - z2_true[i]) * 100\n",
    "diffz2 = (solz2 - z2_true[i]) * 100\n",
    "print(f\"A: {A}\")\n",
    "print(f\"B: {B}\")\n",
    "print(f\"C: {C}\")\n",
    "print(f\"B^2 - 4AC: {B**2 - 4 * A * C}\")\n",
    "if np.isnan(diffz1):\n",
    "    diffz = diffz2\n",
    "elif np.isnan(diffz2):\n",
    "    diffz = diffz1\n",
    "else:\n",
    "    diffz = diffz1 if np.abs(diffz1) < np.abs(diffz2) else diffz2"
   ]
  },
  {
   "cell_type": "code",
   "execution_count": 84,
   "metadata": {},
   "outputs": [],
   "source": [
    "residual = diffz if layer2_true[i] <= 6 and (side_true[i] == Center or drdz_true[i] < 1) else diffr"
   ]
  },
  {
   "cell_type": "code",
   "execution_count": 85,
   "metadata": {},
   "outputs": [],
   "source": [
    "error = 0\n",
    "if layer2_true[i] >= 12 or 4 <= layer2_true[i] <= 6:\n",
    "    error = 5.0\n",
    "else:\n",
    "    error = 0.15\n",
    "\n",
    "projection_missing = 1\n",
    "if drdz_true[i] < 1:\n",
    "    if subdet_true[i] == Endcap or side_true[i] == Center:\n",
    "        projection_missing = 1\n",
    "    else:\n",
    "        projection_missing = 1 / np.sqrt(1 + drdz_true[i]**2)\n",
    "if drdz_true[i] > 1:\n",
    "    if subdet_true[i] == Endcap or side_true[i] == Center:\n",
    "        projection_missing = 1\n",
    "    else:\n",
    "        projection_missing = drdz_true[i] / np.sqrt(1 + drdz_true[i]**2)\n",
    "        \n",
    "error = error * projection_missing"
   ]
  },
  {
   "cell_type": "code",
   "execution_count": 86,
   "metadata": {},
   "outputs": [
    {
     "data": {
      "text/plain": [
       "64.53107591750192"
      ]
     },
     "execution_count": 86,
     "metadata": {},
     "output_type": "execute_result"
    }
   ],
   "source": [
    "residual * residual / error / error * 12 * 10000"
   ]
  },
  {
   "cell_type": "code",
   "execution_count": 87,
   "metadata": {},
   "outputs": [
    {
     "data": {
      "text/plain": [
       "0.0010618558"
      ]
     },
     "execution_count": 87,
     "metadata": {},
     "output_type": "execute_result"
    }
   ],
   "source": [
    "rzchi2_true[i]"
   ]
  },
  {
   "cell_type": "code",
   "execution_count": 88,
   "metadata": {},
   "outputs": [],
   "source": [
    "x0_nan_true = x0[(isperfect==1) & (rzchi2==-1)]\n",
    "y0_nan_true = y0[(isperfect==1) & (rzchi2==-1)]\n",
    "z0_nan_true = z0[(isperfect==1) & (rzchi2==-1)]\n",
    "r0_nan_true = r0[(isperfect==1) & (rzchi2==-1)]\n",
    "x1_nan_true = x1[(isperfect==1) & (rzchi2==-1)]\n",
    "y1_nan_true = y1[(isperfect==1) & (rzchi2==-1)]\n",
    "z1_nan_true = z1[(isperfect==1) & (rzchi2==-1)]\n",
    "r1_nan_true = r1[(isperfect==1) & (rzchi2==-1)]\n",
    "x2_nan_true = x2[(isperfect==1) & (rzchi2==-1)]\n",
    "y2_nan_true = y2[(isperfect==1) & (rzchi2==-1)]\n",
    "z2_nan_true = z2[(isperfect==1) & (rzchi2==-1)]\n",
    "r2_nan_true = r2[(isperfect==1) & (rzchi2==-1)]\n",
    "pt_nan_true = pt[(isperfect==1) & (rzchi2==-1)]\n",
    "region_nan_true = region[(isperfect==1) & (rzchi2==-1)]\n",
    "rzchi2_nan_true = rzchi2[(isperfect==1) & (rzchi2==-1)]\n",
    "circle_radius_nan_true = circle_radius[(isperfect==1) & (rzchi2==-1)]\n",
    "drdz_nan_true = drdz[(isperfect==1) & (rzchi2==-1)]\n",
    "side_nan_true = side[(isperfect==1) & (rzchi2==-1)]\n",
    "subdet_nan_true = subdet[(isperfect==1) & (rzchi2==-1)]\n",
    "layer2_nan_true = layer2[(isperfect==1) & (rzchi2==-1)]\n"
   ]
  },
  {
   "cell_type": "code",
   "execution_count": 89,
   "metadata": {},
   "outputs": [
    {
     "name": "stdout",
     "output_type": "stream",
     "text": [
      "circle_radius: 29935.943359375\n"
     ]
    }
   ],
   "source": [
    "i = np.random.randint(0, len(x0_nan_true))\n",
    "print(f\"circle_radius: {circle_radius_nan_true[i]}\")"
   ]
  },
  {
   "cell_type": "code",
   "execution_count": 90,
   "metadata": {},
   "outputs": [
    {
     "data": {
      "text/plain": [
       "96"
      ]
     },
     "execution_count": 90,
     "metadata": {},
     "output_type": "execute_result"
    }
   ],
   "source": [
    "i"
   ]
  },
  {
   "cell_type": "code",
   "execution_count": 91,
   "metadata": {},
   "outputs": [
    {
     "name": "stdout",
     "output_type": "stream",
     "text": [
      "pt: 341.0336608886719\n",
      "region: Barrel 1, Endcap 1, 2 ps\n",
      "rzchi2: -1.0\n",
      "circle_radius: 29935.943359375\n",
      "x0: -0.18139313161373138\n",
      "y0: 0.1681634932756424\n",
      "z0: -1.1951099634170532\n",
      "r0: 0.247350811958313\n",
      "x1: -0.195195734500885\n",
      "y1: 0.18359927833080292\n",
      "z1: -1.3015949726104736\n",
      "r1: 0.26797401905059814\n",
      "x2: -0.22544178366661072\n",
      "y2: 0.2174166738986969\n",
      "z2: -1.5602049827575684\n",
      "r2: 0.31319963932037354\n"
     ]
    }
   ],
   "source": [
    "print(f\"pt: {pt_nan_true[i]}\")\n",
    "print(f\"region: {region_components[int(region_nan_true[i])]}\")\n",
    "print(f\"rzchi2: {rzchi2_nan_true[i]}\")\n",
    "print(f\"circle_radius: {circle_radius_nan_true[i]}\")\n",
    "print(f\"x0: {x0_nan_true[i]}\")\n",
    "print(f\"y0: {y0_nan_true[i]}\")\n",
    "print(f\"z0: {z0_nan_true[i]}\")\n",
    "print(f\"r0: {r0_nan_true[i]}\")\n",
    "print(f\"x1: {x1_nan_true[i]}\")\n",
    "print(f\"y1: {y1_nan_true[i]}\")\n",
    "print(f\"z1: {z1_nan_true[i]}\")\n",
    "print(f\"r1: {r1_nan_true[i]}\")\n",
    "print(f\"x2: {x2_nan_true[i]}\")\n",
    "print(f\"y2: {y2_nan_true[i]}\")\n",
    "print(f\"z2: {z2_nan_true[i]}\")\n",
    "print(f\"r2: {r2_nan_true[i]}\")\n"
   ]
  },
  {
   "cell_type": "code",
   "execution_count": 92,
   "metadata": {},
   "outputs": [],
   "source": [
    "xc, yc, radius = circle_fit(x0_nan_true[i], y0_nan_true[i], x1_nan_true[i], y1_nan_true[i], x2_nan_true[i], y2_nan_true[i])"
   ]
  },
  {
   "cell_type": "code",
   "execution_count": 93,
   "metadata": {},
   "outputs": [
    {
     "name": "stdout",
     "output_type": "stream",
     "text": [
      "xc: -223.88007141504627\n",
      "yc: -199.84821270277988\n"
     ]
    }
   ],
   "source": [
    "print(f\"xc: {xc}\")\n",
    "print(f\"yc: {yc}\")"
   ]
  },
  {
   "cell_type": "code",
   "execution_count": 94,
   "metadata": {},
   "outputs": [
    {
     "data": {
      "text/plain": [
       "[<matplotlib.lines.Line2D at 0x7f7637f17610>]"
      ]
     },
     "execution_count": 94,
     "metadata": {},
     "output_type": "execute_result"
    },
    {
     "data": {
      "image/png": "[encoded data removed]",
      "text/plain": [
       "<Figure size 640x480 with 1 Axes>"
      ]
     },
     "metadata": {},
     "output_type": "display_data"
    }
   ],
   "source": [
    "plt.plot([x0_nan_true[i], x1_nan_true[i], x2_nan_true[i], xc], [y0_nan_true[i], y1_nan_true[i], y2_nan_true[i], yc], 'o')\n",
    "theta = np.linspace(0, 2*np.pi, 100)\n",
    "x = xc + radius * np.cos(theta)\n",
    "y = yc + radius * np.sin(theta)\n",
    "plt.plot(x, y)\n"
   ]
  },
  {
   "cell_type": "code",
   "execution_count": 95,
   "metadata": {},
   "outputs": [
    {
     "name": "stdout",
     "output_type": "stream",
     "text": [
      "q: -1\n",
      "slope1c: 0.8941330263142151\n",
      "slope3c: 0.8945293451176052\n",
      "y2 - yc: 200.06562937667857\n",
      "x2 - xc: 223.65462963137966\n",
      "y0 - yc: 200.01637619605552\n",
      "x0 - xc: 223.69867828343254\n"
     ]
    }
   ],
   "source": [
    "q = 0\n",
    "slope3c = (y2_nan_true[i] - yc) / (x2_nan_true[i] - xc)\n",
    "slope1c = (y0_nan_true[i] - yc) / (x0_nan_true[i] - xc)\n",
    "if (y2_nan_true[i] - yc) > 0 and (y0_nan_true[i] - yc) > 0:\n",
    "    if slope1c > 0 and slope3c < 0:\n",
    "        q = -1\n",
    "    elif slope1c < 0 and slope3c > 0:\n",
    "        q = 1\n",
    "    elif slope3c > slope1c:\n",
    "        q = -1\n",
    "    elif slope3c < slope1c:\n",
    "        q = 1\n",
    "elif (y2_nan_true[i] - yc) < 0 and (y0_nan_true[i] - yc) < 0:\n",
    "    if slope1c < 0 and slope3c > 0:\n",
    "        q = 1\n",
    "    elif slope1c > 0 and slope3c < 0:\n",
    "        q = -1\n",
    "    elif slope3c > slope1c:\n",
    "        q = -1\n",
    "    elif slope3c < slope1c:\n",
    "        q = 1\n",
    "elif (y2_nan_true[i] - yc) < 0 and (y0_nan_true[i] - yc) > 0:\n",
    "    if (x2_nan_true[i] - xc) > 0 and (x0_nan_true[i] - xc) > 0:\n",
    "        q = 1\n",
    "    elif (x2_nan_true[i] - xc) < 0 and (x0_nan_true[i] - xc) < 0:\n",
    "        q = -1\n",
    "elif (y2_nan_true[i] - yc) > 0 and (y0_nan_true[i] - yc) < 0:\n",
    "    if (x2_nan_true[i] - xc) > 0 and (x0_nan_true[i] - xc) > 0:\n",
    "        q = -1\n",
    "    elif (x2_nan_true[i] - xc) < 0 and (x0_nan_true[i] - xc) < 0:\n",
    "        q = 1\n",
    "        \n",
    "print(f\"q: {q}\")\n",
    "print(f\"slope1c: {slope1c}\")\n",
    "print(f\"slope3c: {slope3c}\")\n",
    "print(f\"y2 - yc: {y2_nan_true[i] - yc}\")\n",
    "print(f\"x2 - xc: {x2_nan_true[i] - xc}\")\n",
    "print(f\"y0 - yc: {y0_nan_true[i] - yc}\")\n",
    "print(f\"x0 - xc: {x0_nan_true[i] - xc}\")"
   ]
  },
  {
   "cell_type": "code",
   "execution_count": null,
   "metadata": {},
   "outputs": [],
   "source": []
  },
  {
   "cell_type": "code",
   "execution_count": null,
   "metadata": {},
   "outputs": [],
   "source": []
  },
  {
   "cell_type": "code",
   "execution_count": 96,
   "metadata": {},
   "outputs": [],
   "source": [
    "Bz = 3.8112\n",
    "a = -0.299792 * Bz * q\n",
    "pseudo_phi = np.arctan((y1_nan_true[i] - yc)/(x1_nan_true[i] - xc))\n",
    "px = np.abs(pt_nan_true[i] * np.sin(pseudo_phi))\n",
    "py = np.abs(pt_nan_true[i] * np.cos(pseudo_phi))\n"
   ]
  },
  {
   "cell_type": "code",
   "execution_count": 97,
   "metadata": {},
   "outputs": [],
   "source": [
    "if (x1_nan_true[i] > xc and y1_nan_true[i] > yc):\n",
    "    if q == 1:\n",
    "        py = -py\n",
    "    if q == -1:\n",
    "        px = -px\n",
    "elif (x1_nan_true[i] < xc and y1_nan_true[i] > yc):\n",
    "    if q == -1:\n",
    "        px = -px\n",
    "        py = -py\n",
    "elif (x1_nan_true[i] < xc and y1_nan_true[i] < yc):\n",
    "    if q == 1:\n",
    "        px = -px\n",
    "    if q == -1:\n",
    "        py = -py\n",
    "elif (x1_nan_true[i] > xc and y1_nan_true[i] < yc):\n",
    "    if q == 1:\n",
    "        px = -px\n",
    "        py = -py\n",
    "        \n",
    "if (x2_nan_true[i] < x1_nan_true[i] and x1_nan_true[i] < x0_nan_true[i]):\n",
    "    px = -np.abs(px)\n",
    "if (x2_nan_true[i] > x1_nan_true[i] and x1_nan_true[i] > x0_nan_true[i]):\n",
    "    px = np.abs(px)\n",
    "if (y2_nan_true[i] < y1_nan_true[i] and y1_nan_true[i] < y0_nan_true[i]):\n",
    "    py = -np.abs(py)\n",
    "if (y2_nan_true[i] > y1_nan_true[i] and y1_nan_true[i] > y0_nan_true[i]):\n",
    "    py = np.abs(py)\n",
    "    "
   ]
  },
  {
   "cell_type": "code",
   "execution_count": 98,
   "metadata": {},
   "outputs": [],
   "source": [
    "AO = np.sqrt((x0_nan_true[i] - xc)**2 + (y0_nan_true[i] - yc)**2)\n",
    "BO = np.sqrt((x1_nan_true[i] - xc)**2 + (y1_nan_true[i] - yc)**2)\n",
    "AB = np.sqrt((x1_nan_true[i] - x0_nan_true[i])**2 + (y1_nan_true[i] - y0_nan_true[i])**2)\n",
    "central_angle01 = np.arccos((AO**2 + BO**2 - AB**2) / (2 * AO * BO))\n",
    "ds = radius * central_angle01\n",
    "pz = pt_nan_true[i] * (z1_nan_true[i] - z0_nan_true[i]) / ds\n",
    "p = np.sqrt(px**2 + py**2 + pz**2)\n",
    "rho = a / p\n"
   ]
  },
  {
   "cell_type": "code",
   "execution_count": 99,
   "metadata": {},
   "outputs": [],
   "source": [
    "s = (z2_nan_true[i] - z1_nan_true[i]) * p / pz\n",
    "x = x1_nan_true[i] + px / a * np.sin(rho * s) - py / a * (1 - np.cos(rho * s))\n",
    "y = y1_nan_true[i] + px / a * (1 - np.cos(rho * s)) + py / a * np.sin(rho * s)\n",
    "r = np.sqrt(x**2 + y**2)\n",
    "diffr = r - r2_nan_true[i]"
   ]
  },
  {
   "cell_type": "code",
   "execution_count": 100,
   "metadata": {},
   "outputs": [
    {
     "name": "stdout",
     "output_type": "stream",
     "text": [
      "A: 31753344553.736095\n",
      "B: 56799009.99465562\n",
      "C: -9367.311912536621\n",
      "B^2 - 4AC: 4415901467177356.0\n"
     ]
    }
   ],
   "source": [
    "diffz = 0\n",
    "paraA = r1_nan_true[i]**2 + 2 * (px**2 + py**2) / (a**2) + 2 * (y1_nan_true[i] * px - x1_nan_true[i] * py) / a - r2_nan_true[i]**2\n",
    "paraB = 2 * (x1_nan_true[i] * px + y1_nan_true[i] * py) / a\n",
    "paraC = 2 * (y1_nan_true[i] * px - x1_nan_true[i] * py) / a + 2 * (px**2 + py**2) / (a**2)\n",
    "A = paraB**2 + paraC**2\n",
    "B = 2 * paraA * paraB\n",
    "C = paraA**2 - paraC**2\n",
    "sol1 = (-B + np.sqrt(B**2 - 4 * A * C)) / (2 * A)\n",
    "sol2 = (-B - np.sqrt(B**2 - 4 * A * C)) / (2 * A)\n",
    "solz1 = np.arcsin(sol1) / rho * pz / p + z1_nan_true[i]\n",
    "solz2 = np.arcsin(sol2) / rho * pz / p + z1_nan_true[i]\n",
    "diffz1 = (solz1 - z2_nan_true[i]) * 100\n",
    "diffz2 = (solz2 - z2_nan_true[i]) * 100\n",
    "print(f\"A: {A}\")\n",
    "print(f\"B: {B}\")\n",
    "print(f\"C: {C}\")\n",
    "print(f\"B^2 - 4AC: {B**2 - 4 * A * C}\")\n",
    "if np.isnan(diffz1):\n",
    "    diffz = diffz2\n",
    "elif np.isnan(diffz2):\n",
    "    diffz = diffz1\n",
    "else:\n",
    "    diffz = diffz1 if np.abs(diffz1) < np.abs(diffz2) else diffz2\n"
   ]
  },
  {
   "cell_type": "code",
   "execution_count": 101,
   "metadata": {},
   "outputs": [],
   "source": [
    "residual = diffz if layer2_nan_true[i] <= 6 and (side_nan_true[i] == Center or drdz_nan_true[i] < 1) else diffr"
   ]
  },
  {
   "cell_type": "code",
   "execution_count": 102,
   "metadata": {},
   "outputs": [],
   "source": [
    "error = 0\n",
    "if layer2_nan_true[i] >= 12 or 4 <= layer2_nan_true[i] <= 6:\n",
    "    error = 5.0\n",
    "else:\n",
    "    error = 0.15\n",
    "    \n",
    "projection_missing = 1\n",
    "if drdz_nan_true[i] < 1:\n",
    "    if subdet_nan_true[i] == Endcap or side_nan_true[i] == Center:\n",
    "        projection_missing = 1\n",
    "    else:\n",
    "        projection_missing = 1 / np.sqrt(1 + drdz_nan_true[i]**2)\n",
    "if drdz_nan_true[i] > 1:\n",
    "    if subdet_nan_true[i] == Endcap or side_nan_true[i] == Center:\n",
    "        projection_missing = 1\n",
    "    else:\n",
    "        projection_missing = drdz_nan_true[i] / np.sqrt(1 + drdz_nan_true[i]**2)\n",
    "        \n",
    "error = error * projection_missing\n"
   ]
  },
  {
   "cell_type": "code",
   "execution_count": 103,
   "metadata": {},
   "outputs": [
    {
     "data": {
      "text/plain": [
       "128.34929494672778"
      ]
     },
     "execution_count": 103,
     "metadata": {},
     "output_type": "execute_result"
    }
   ],
   "source": [
    "residual * residual / error / error * 12 * 10000"
   ]
  },
  {
   "cell_type": "code",
   "execution_count": 104,
   "metadata": {},
   "outputs": [
    {
     "data": {
      "text/plain": [
       "24868"
      ]
     },
     "execution_count": 104,
     "metadata": {},
     "output_type": "execute_result"
    }
   ],
   "source": [
    "len(x0[rzchi2==-1])"
   ]
  },
  {
   "cell_type": "code",
   "execution_count": 105,
   "metadata": {},
   "outputs": [
    {
     "data": {
      "text/plain": [
       "6307"
      ]
     },
     "execution_count": 105,
     "metadata": {},
     "output_type": "execute_result"
    }
   ],
   "source": [
    "len(x0[rzchi2==-2])"
   ]
  },
  {
   "cell_type": "code",
   "execution_count": 106,
   "metadata": {},
   "outputs": [
    {
     "data": {
      "text/plain": [
       "0"
      ]
     },
     "execution_count": 106,
     "metadata": {},
     "output_type": "execute_result"
    }
   ],
   "source": [
    "len(x0[circle_radius==-1])"
   ]
  },
  {
   "cell_type": "code",
   "execution_count": 107,
   "metadata": {},
   "outputs": [
    {
     "data": {
      "text/plain": [
       "109"
      ]
     },
     "execution_count": 107,
     "metadata": {},
     "output_type": "execute_result"
    }
   ],
   "source": [
    "len(x0[(rzchi2==-1) & (isperfect==1)])"
   ]
  },
  {
   "cell_type": "code",
   "execution_count": 108,
   "metadata": {},
   "outputs": [
    {
     "data": {
      "text/plain": [
       "0"
      ]
     },
     "execution_count": 108,
     "metadata": {},
     "output_type": "execute_result"
    }
   ],
   "source": [
    "len(x0[(rzchi2==-2) & (isperfect==1)])"
   ]
  },
  {
   "cell_type": "code",
   "execution_count": 109,
   "metadata": {},
   "outputs": [
    {
     "data": {
      "text/plain": [
       "0"
      ]
     },
     "execution_count": 109,
     "metadata": {},
     "output_type": "execute_result"
    }
   ],
   "source": [
    "len(x0[(circle_radius==-1) & (isperfect==1)])"
   ]
  },
  {
   "cell_type": "code",
   "execution_count": 110,
   "metadata": {},
   "outputs": [],
   "source": [
    "# len(x0[(isperfect==1) & (pt > 15) & (pt < 25)])\n",
    "\n"
   ]
  },
  {
   "cell_type": "code",
   "execution_count": 111,
   "metadata": {},
   "outputs": [
    {
     "data": {
      "text/plain": [
       "24838"
      ]
     },
     "execution_count": 111,
     "metadata": {},
     "output_type": "execute_result"
    }
   ],
   "source": [
    "len(x0[(rzchi2==-1) & (pt > 100)])"
   ]
  },
  {
   "cell_type": "code",
   "execution_count": 112,
   "metadata": {},
   "outputs": [
    {
     "data": {
      "text/plain": [
       "157823"
      ]
     },
     "execution_count": 112,
     "metadata": {},
     "output_type": "execute_result"
    }
   ],
   "source": [
    "len(x0[pt > 100])"
   ]
  },
  {
   "cell_type": "code",
   "execution_count": 113,
   "metadata": {},
   "outputs": [],
   "source": [
    "# eta[(rzchi2==-1) & (pt < 100)]"
   ]
  },
  {
   "cell_type": "code",
   "execution_count": 1,
   "metadata": {},
   "outputs": [
    {
     "data": {
      "text/plain": [
       "200"
      ]
     },
     "execution_count": 1,
     "metadata": {},
     "output_type": "execute_result"
    }
   ],
   "source": [
    "# count number of lines from tmp.txt\n",
    "num_lines = sum(1 for line in open('tmp.txt'))\n",
    "num_lines"
   ]
  },
  {
   "cell_type": "code",
   "execution_count": null,
   "metadata": {},
   "outputs": [],
   "source": []
  }
 ],
 "metadata": {
  "kernelspec": {
   "display_name": "lst",
   "language": "python",
   "name": "python3"
  },
  "language_info": {
   "codemirror_mode": {
    "name": "ipython",
    "version": 3
   },
   "file_extension": ".py",
   "mimetype": "text/x-python",
   "name": "python",
   "nbconvert_exporter": "python",
   "pygments_lexer": "ipython3",
   "version": "3.11.9"
  }
 },
 "nbformat": 4,
 "nbformat_minor": 2
}
